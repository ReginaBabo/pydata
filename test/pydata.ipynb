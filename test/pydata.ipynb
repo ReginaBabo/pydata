{
 "cells": [
  {
   "cell_type": "code",
   "execution_count": 4,
   "metadata": {},
   "outputs": [
    {
     "name": "stdout",
     "output_type": "stream",
     "text": [
      " \n",
      "  pydata\n",
      "  _______\n",
      "  \n",
      "  numpy loaded as np\n",
      "  pandas loaded as pd\n",
      "  scikit-learn loaded as sk\n",
      "  matplotlib.pyplot loaded as plt\n",
      "  plotnine loaded as pn\n",
      "  \n"
     ]
    }
   ],
   "source": [
    "import warnings\n",
    "warnings.filterwarnings('ignore')\n",
    "\n",
    "from pydata import libs\n",
    "globals().update(libs())"
   ]
  },
  {
   "cell_type": "code",
   "execution_count": 7,
   "metadata": {},
   "outputs": [
    {
     "name": "stdout",
     "output_type": "stream",
     "text": [
      "Variable   Type        Data/Info\n",
      "--------------------------------\n",
      "libs       function    <function libs at 0x7f85aca4b6a8>\n",
      "np         module      <module 'numpy' from '/ho<...>kages/numpy/__init__.py'>\n",
      "pd         module      <module 'pandas' from '/h<...>ages/pandas/__init__.py'>\n",
      "plt        module      <module 'matplotlib.pyplo<...>es/matplotlib/pyplot.py'>\n",
      "pn         module      <module 'plotnine' from '<...>es/plotnine/__init__.py'>\n",
      "skl        module      <module 'sklearn' from '/<...>ges/sklearn/__init__.py'>\n",
      "warnings   module      <module 'warnings' from '<...>b/python3.5/warnings.py'>\n"
     ]
    }
   ],
   "source": [
    "whos"
   ]
  }
 ],
 "metadata": {
  "anaconda-cloud": {},
  "kernelspec": {
   "display_name": "Python 3",
   "language": "python",
   "name": "python3"
  },
  "language_info": {
   "codemirror_mode": {
    "name": "ipython",
    "version": 3
   },
   "file_extension": ".py",
   "mimetype": "text/x-python",
   "name": "python",
   "nbconvert_exporter": "python",
   "pygments_lexer": "ipython3",
   "version": "3.5.2"
  }
 },
 "nbformat": 4,
 "nbformat_minor": 2
}
